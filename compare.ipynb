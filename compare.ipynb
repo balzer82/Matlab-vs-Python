{
 "metadata": {
  "name": "",
  "signature": "sha256:db520c4c51f86e3a2b96861f6b7cf12b6e050e854aa4aa11d1c313fa2a1516b8"
 },
 "nbformat": 3,
 "nbformat_minor": 0,
 "worksheets": [
  {
   "cells": [
    {
     "cell_type": "code",
     "collapsed": false,
     "input": [
      "import pandas as pd\n",
      "import matplotlib.pyplot as plt\n",
      "#%matplotlib inline"
     ],
     "language": "python",
     "metadata": {},
     "outputs": [],
     "prompt_number": 1
    },
    {
     "cell_type": "markdown",
     "metadata": {},
     "source": [
      "Read in the [Stockoverflow Query](http://data.stackexchange.com/stackoverflow/query/211291/matlab-simulink-and-python-questions-per-month)"
     ]
    },
    {
     "cell_type": "code",
     "collapsed": false,
     "input": [
      "data = pd.read_csv('QueryResults.csv')"
     ],
     "language": "python",
     "metadata": {},
     "outputs": [],
     "prompt_number": 2
    },
    {
     "cell_type": "code",
     "collapsed": false,
     "input": [
      "gd = data.pivot(index='month', columns='tag', values='count').fillna(0)"
     ],
     "language": "python",
     "metadata": {},
     "outputs": [],
     "prompt_number": 3
    },
    {
     "cell_type": "code",
     "collapsed": false,
     "input": [
      "gd.index = pd.to_datetime(gd.index)\n",
      "gd.columns.name = 'Frage zu'\n",
      "gd.rename(columns={'python': 'Python', 'matlab': 'Matlab', 'simulink': 'Simulink'}, inplace=True)\n",
      "gd.plot()\n",
      "plt.savefig('stockoverflow-gesamt.png')"
     ],
     "language": "python",
     "metadata": {},
     "outputs": [],
     "prompt_number": 4
    },
    {
     "cell_type": "code",
     "collapsed": false,
     "input": [
      "gd['Matlab+Simulink'] = gd.Matlab+gd.Simulink"
     ],
     "language": "python",
     "metadata": {},
     "outputs": [],
     "prompt_number": 5
    },
    {
     "cell_type": "code",
     "collapsed": false,
     "input": [
      "for yearbegin in range(2010, 2013):\n",
      "    st = '01-01-%i' % yearbegin\n",
      "    df = gd[['Python','Matlab+Simulink']][st:'01-01-2014']"
     ],
     "language": "python",
     "metadata": {},
     "outputs": [],
     "prompt_number": 6
    },
    {
     "cell_type": "heading",
     "level": 4,
     "metadata": {},
     "source": [
      "Normalize it"
     ]
    },
    {
     "cell_type": "code",
     "collapsed": false,
     "input": [
      "    def normalize(df):\n",
      "        return 100.0*df.values/df.values[0]"
     ],
     "language": "python",
     "metadata": {},
     "outputs": [],
     "prompt_number": 7
    },
    {
     "cell_type": "code",
     "collapsed": false,
     "input": [
      "    df = df.apply(normalize)"
     ],
     "language": "python",
     "metadata": {},
     "outputs": [],
     "prompt_number": 8
    },
    {
     "cell_type": "heading",
     "level": 4,
     "metadata": {},
     "source": [
      "Plot it"
     ]
    },
    {
     "cell_type": "code",
     "collapsed": false,
     "input": [
      "    df.plot(title='Fragen auf stockoverflow.com nach Stichwort')\n",
      "    plt.ylabel='Prozent'\n",
      "    plt.ylim(0, 1000)\n",
      "    plt.savefig('stockoverflow-%i-2014.png' % yearbegin, dpi=72)"
     ],
     "language": "python",
     "metadata": {},
     "outputs": [],
     "prompt_number": 9
    },
    {
     "cell_type": "code",
     "collapsed": false,
     "input": [],
     "language": "python",
     "metadata": {},
     "outputs": [],
     "prompt_number": 9
    }
   ],
   "metadata": {}
  }
 ]
}